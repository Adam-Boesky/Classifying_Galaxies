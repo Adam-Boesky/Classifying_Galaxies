{
 "cells": [
  {
   "cell_type": "code",
   "execution_count": 34,
   "metadata": {},
   "outputs": [],
   "source": [
    "import warnings\n",
    "from astropy.utils.exceptions import AstropyWarning\n",
    "warnings.simplefilter('ignore', category=AstropyWarning) # to quiet Astropy warnings\n",
    "\n",
    "# 3rd party\n",
    "import numpy as np\n",
    "\n",
    "from astropy.utils.data import download_file\n",
    "from astropy.io import fits\n",
    "from astropy.wcs import WCS\n",
    "from astropy.visualization import make_lupton_rgb\n",
    "from astropy.table import Table\n",
    "import pandas as pd\n",
    "\n",
    "import requests\n",
    "from astropy.io import fits\n",
    "from io import BytesIO\n",
    "from astro_ghost.PS1QueryFunctions import *\n",
    "from astropy.coordinates import SkyCoord, Angle, Distance\n",
    "from astropy import units as u\n",
    "\n",
    "#now taking the catalog from https://zenodo.org/record/6620892\n",
    "dataPath ='/Volumes/T7/ay_98_data/Zou_data/sed_catalog'\n",
    "dat = Table.read(dataPath + '/es1.v1.fits', format='fits')\n",
    "df = dat.to_pandas()\n",
    "df_gals = df[df['flag_star'] == 0]\n",
    "df_gals_lowz = df_gals[df_gals['redshift'] < 1.0]\n",
    "df_gals_lowz_goodPhot = df_gals_lowz[df_gals_lowz['ngoodband'] > 4]\n",
    "df_gals_lowz_goodPhot_size = df_gals_lowz_goodPhot[(df_gals_lowz_goodPhot['Mstar_gal'] > 1.e8) & (df_gals_lowz_goodPhot['Mstar_gal'] < 1.e12)]\n",
    "df_gals_lowz_goodPhot.reset_index(drop=True, inplace=True)\n",
    "\n",
    "saved = 0\n",
    "pixscale = 0.262\n",
    "imgs = []\n",
    "vals = []"
   ]
  },
  {
   "cell_type": "code",
   "execution_count": 35,
   "metadata": {},
   "outputs": [
    {
     "name": "stdout",
     "output_type": "stream",
     "text": [
      "[[644246825871, 10.098292920072684, -44.31656216750578, 0.645, 8.743561298142263, 9.4549709040148, 0.483, 0.679, 0.40094253816687947, 0.7220587943712701]]\n",
      "Saved all images!\n"
     ]
    },
    {
     "data": {
      "text/plain": [
       "1"
      ]
     },
     "execution_count": 35,
     "metadata": {},
     "output_type": "execute_result"
    }
   ],
   "source": [
    "for idx, row in df_gals_lowz_goodPhot.iterrows():\n",
    "    if idx == 0:\n",
    "        try:\n",
    "            url = 'https://www.legacysurvey.org/viewer/fits-cutout?ra=%.5f&dec=%.5f&pixscale=%.3f&layer=ls-dr9&size=100'%(row.RA, row.DEC, pixscale)\n",
    "            r = requests.get(url)\n",
    "            df = fits.open(BytesIO(r.content),ignore_missing_simple=True)\n",
    "            img = np.transpose(df[0].data, [1, 2, 0])\n",
    "            imgs.append(img)\n",
    "            saved += 1\n",
    "            if (saved)%101 == 0:\n",
    "                print(\"Saved %i\"%saved)\n",
    "            vals.append([row['Tractor_ID'], row['RA'], row['DEC'], row['redshift'], np.log10(row['Mstar_gal']), np.log10(1.e9*row['SFR_gal']), row['zphot_lowlim'], row['zphot_upplim'], row['Mstar_gal_err']/row['Mstar_gal'], row['SFR_gal_err']/row['SFR_gal']])\n",
    "            print(vals)\n",
    "        except OSError:\n",
    "            continue\n",
    "    else:\n",
    "        break\n",
    "np.savez(dataPath + \"ZouCrossMatchedSample.npz\", x=np.array(imgs), y=np.array(vals))\n",
    "print(\"Saved all images!\")\n",
    "len(imgs)\n"
   ]
  },
  {
   "cell_type": "code",
   "execution_count": 31,
   "metadata": {},
   "outputs": [
    {
     "data": {
      "text/plain": [
       "8.517407104950413"
      ]
     },
     "execution_count": 31,
     "metadata": {},
     "output_type": "execute_result"
    }
   ],
   "source": [
    "row['RA']"
   ]
  },
  {
   "cell_type": "code",
   "execution_count": 26,
   "metadata": {},
   "outputs": [
    {
     "data": {
      "text/plain": [
       "SIMPLE  =                    T / file does conform to FITS standard             \n",
       "BITPIX  =                  -32 / number of bits per data pixel                  \n",
       "NAXIS   =                    3 / number of data axes                            \n",
       "NAXIS1  =                  100 / length of data axis 1                          \n",
       "NAXIS2  =                  100 / length of data axis 2                          \n",
       "NAXIS3  =                    3 / length of data axis 3                          \n",
       "EXTEND  =                    T / FITS dataset may contain extensions            \n",
       "COMMENT   FITS (Flexible Image Transport System) format is defined in 'Astronomy\n",
       "COMMENT   and Astrophysics', volume 376, page 359; bibcode: 2001A&A...376..359H \n",
       "SURVEY  = 'LegacySurvey'                                                        \n",
       "VERSION = 'DR9     '                                                            \n",
       "IMAGETYP= 'IMAGE   '           / None                                           \n",
       "BANDS   = 'grz     '                                                            \n",
       "BAND0   = 'g       '                                                            \n",
       "BAND1   = 'r       '                                                            \n",
       "BAND2   = 'z       '                                                            \n",
       "CTYPE1  = 'RA---TAN'           / TANgent plane                                  \n",
       "CTYPE2  = 'DEC--TAN'           / TANgent plane                                  \n",
       "CRVAL1  =             10.09829 / Reference RA                                   \n",
       "CRVAL2  =            -44.31656 / Reference Dec                                  \n",
       "CRPIX1  =                 50.5 / Reference x                                    \n",
       "CRPIX2  =                 50.5 / Reference y                                    \n",
       "CD1_1   = -7.27777777777778E-05 / CD matrix                                     \n",
       "CD1_2   =                   0. / CD matrix                                      \n",
       "CD2_1   =                   0. / CD matrix                                      \n",
       "CD2_2   = 7.27777777777778E-05 / CD matrix                                      \n",
       "IMAGEW  =                 100. / Image width                                    \n",
       "IMAGEH  =                 100. / Image height                                   "
      ]
     },
     "execution_count": 26,
     "metadata": {},
     "output_type": "execute_result"
    }
   ],
   "source": [
    "df[0]"
   ]
  },
  {
   "cell_type": "code",
   "execution_count": 27,
   "metadata": {},
   "outputs": [
    {
     "ename": "IndexError",
     "evalue": "only integers, slices (`:`), ellipsis (`...`), numpy.newaxis (`None`) and integer or boolean arrays are valid indices",
     "output_type": "error",
     "traceback": [
      "\u001b[0;31m---------------------------------------------------------------------------\u001b[0m",
      "\u001b[0;31mIndexError\u001b[0m                                Traceback (most recent call last)",
      "\u001b[1;32m/Users/adamboesky/Desktop/General/College/CS109/Classifying_Galaxies/test.ipynb Cell 4\u001b[0m line \u001b[0;36m1\n\u001b[0;32m----> <a href='vscode-notebook-cell:/Users/adamboesky/Desktop/General/College/CS109/Classifying_Galaxies/test.ipynb#W5sZmlsZQ%3D%3D?line=0'>1</a>\u001b[0m df[\u001b[39m0\u001b[39;49m]\u001b[39m.\u001b[39;49mdata[\u001b[39m'\u001b[39;49m\u001b[39mEXTEND\u001b[39;49m\u001b[39m'\u001b[39;49m]\n",
      "\u001b[0;31mIndexError\u001b[0m: only integers, slices (`:`), ellipsis (`...`), numpy.newaxis (`None`) and integer or boolean arrays are valid indices"
     ]
    }
   ],
   "source": [
    "df[0].data['EXTEND']"
   ]
  },
  {
   "cell_type": "code",
   "execution_count": null,
   "metadata": {},
   "outputs": [],
   "source": []
  }
 ],
 "metadata": {
  "kernelspec": {
   "display_name": "ay98",
   "language": "python",
   "name": "python3"
  },
  "language_info": {
   "codemirror_mode": {
    "name": "ipython",
    "version": 3
   },
   "file_extension": ".py",
   "mimetype": "text/x-python",
   "name": "python",
   "nbconvert_exporter": "python",
   "pygments_lexer": "ipython3",
   "version": "3.11.5"
  }
 },
 "nbformat": 4,
 "nbformat_minor": 2
}
